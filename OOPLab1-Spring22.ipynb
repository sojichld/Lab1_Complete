{
 "cells": [
  {
   "cell_type": "markdown",
   "metadata": {},
   "source": [
    "Name: Soji Ademiluyi  \n",
    "Email:aademilu@uncc.edu\n",
    "\n",
    "\n",
    "## Part 1 - Sequence Class\n",
    "\n",
    "Write a Sequence class. In the __init__ method, you should initialized one attribute, a String that represents a DNA Sequence\n",
    "This class should also have the following magic methods we discussed in class yesterday:\n",
    "\n",
    "- __repr__ and __str__\n",
    "- __eq__ and __lt__ (then use the decorator I demonstrated)\n",
    "\n",
    "It is up to you to decide how these should be implemented. For instance, what criteria do you think makes the most sense for saying two sequences are equal to one another? What criteria for one sequence to be considered \"less than\" another?"
   ]
  },
  {
   "cell_type": "markdown",
   "metadata": {},
   "source": [
    "Here I created str, repr, len, add, eq and lt dunder methods, with the choice method being a compliment generator.   \n",
    "The `compliment` method creates a new sequence object that is the compliment of the sequence.  \n",
    "`str` returns a readable summary of the object while `repr` returns the precise contents of the object.  \n",
    "`len` gives the length of the string.  \n",
    "`eq` checks if the strings are the same sequence.  \n",
    "`lt` checks to see which string is longer.  \n",
    "`add` concatenates the strings "
   ]
  },
  {
   "cell_type": "code",
   "execution_count": 145,
   "metadata": {},
   "outputs": [],
   "source": [
    "from typing import List\n",
    "from xmlrpc.client import Boolean\n",
    "#sequence class goes here\n",
    "class Sequence:\n",
    "\n",
    "    def __init__(self, sequence: str) ->None:\n",
    "        #string the represents the dictionary sequence\n",
    "        self.sequence = sequence\n",
    "\n",
    "    def __str__(self):\n",
    "        return 'A character sequence of nucleotides beginning with \"{}\"...'.format(self.sequence[0:10])\n",
    "\n",
    "    def __repr__(self):\n",
    "        return 'Sequence Object: {}'.format(self.sequence)\n",
    "\n",
    "    def __len__(self):\n",
    "        length = 0\n",
    "        for i in self.sequence:\n",
    "            length += 1\n",
    "        return(length)\n",
    "\n",
    "    def __eq__(self, other):\n",
    "        #Find if the sequence string is equivalent.\n",
    "        return self.sequence == other.sequence\n",
    "\n",
    "    def __lt__(self, other):\n",
    "        #lengths for sorting\n",
    "        return self.__len__ < other.__len__\n",
    "\n",
    "    def __add__(self, other):\n",
    "        self.sequence += other.sequence\n",
    "        return self.sequence\n",
    "\n",
    "    def compliment(self):\n",
    "        convert = {'a':'t', 'g':'c', 't':'a', 'c':'g'}\n",
    "        inter = ''\n",
    "        for i in self.sequence:\n",
    "            j = convert[i]\n",
    "            inter += j\n",
    "        complimentarySequence = Sequence(inter)\n",
    "        return complimentarySequence\n",
    "        \n",
    "\n"
   ]
  },
  {
   "cell_type": "markdown",
   "metadata": {},
   "source": [
    "The following testing method was used outside of the ipython notebook. I am posting it here with some of the functionality removed."
   ]
  },
  {
   "cell_type": "code",
   "execution_count": 152,
   "metadata": {},
   "outputs": [],
   "source": [
    "#Use this cell for testing your Sequence class. Show us what tests you ran to confirm your methods worked correctly\n",
    "#Test Method\n",
    "\n",
    "import unittest\n",
    "#import Sequence\n",
    "class Test(unittest.TestCase):\n",
    "\n",
    "    global testSeq1\n",
    "    global testSeq2\n",
    "    testSeq1 = Sequence(\"agctagctagcagtcagtagcagatgatgatccacacacgccg\")\n",
    "    testSeq2 = Sequence(\"agcattgatccacacacgccg\")\n",
    "    \n",
    "    def test_add(self):\n",
    "        output = Sequence.add(testSeq1, testSeq2)\n",
    "        self.assertEqual(output, \"agctagctagcagtcagtagcagatgatgatccacacacgccgagcattgatccacacacgccg\")\n",
    "\n",
    "    def test_eq(self):\n",
    "        output = Sequence.eq(testSeq1, testSeq2)\n",
    "        self.assertEqual(output, False)\n",
    "        output = Sequence.eq(testSeq1, testSeq1)\n",
    "        self.assertEqual(output, True)\n",
    "    def test_lt(self):\n",
    "        output = Sequence.eq(testSeq1, testSeq2)\n",
    "        self.assertEqual(output, False)\n",
    "        output = Sequence.eq(testSeq2, testSeq1)\n",
    "        self.assertEqual(output, True)\n",
    "    def test_compliment(self):\n",
    "        output = Sequence.eq(testSeq1)\n",
    "        self.assertEqual(output, Sequence(\"tcgatcgatcgtcagtcatcgtctactactaggtgtgtgcggc\"))\n",
    "        output = Sequence.eq(testSeq2)\n",
    "        self.assertEqual(output, Sequence(\"tcgtaactaggtgtgtgcggc\"))\n",
    "#unittest.main()\n",
    "#if __name__ == '__main__':\n",
    "   #unittest.main() "
   ]
  },
  {
   "cell_type": "markdown",
   "metadata": {},
   "source": [
    "## Part 2 - SequenceRecord Class\n",
    "\n",
    "Write a class called Sequence Record. This class should have two attributes:\n",
    "\n",
    "- A label/title (something that describe the source of the sequence, like the contents of a header line in a FASTA file)\n",
    "- and a Sequence object \n",
    "\n",
    "Your initializer should attempt to confirm that the second attribute is, in fact, a Sequence object. Consider the following code and how it could be applied here\n",
    "\n",
    "```\n",
    ">>> s = \"hello\"\n",
    ">>> type(s) == str\n",
    "True \n",
    "```\n",
    "\n",
    "You should also, at minimum, add a __str__ and __repr__ method."
   ]
  },
  {
   "cell_type": "markdown",
   "metadata": {},
   "source": [
    "The `SequenceRecord` class takes in a sequence object and a record string.  \n",
    "\n",
    "The `eq` method is altered to compare the type of record and use this for equivalence.  \n",
    "The `init` method checks to see if the incoming `sequenceO` object is a sequence object.\n",
    "\n"
   ]
  },
  {
   "cell_type": "code",
   "execution_count": 120,
   "metadata": {},
   "outputs": [],
   "source": [
    "# SequenceRecord class goes here\n",
    "class SequenceRecord:\n",
    "    def __init__(self, record: List[str], sequenceO) -> None:\n",
    "        if type(sequenceO) == Sequence:\n",
    "            self.sequenceO = sequenceO\n",
    "        else:\n",
    "            print(\"Not a sequence file.\")\n",
    "            return False\n",
    "\n",
    "        recordList = record.split(' ', 1)\n",
    "\n",
    "        self.record = recordList\n",
    "\n",
    "    def __str__(self):\n",
    "        return 'A sequence record of a \"{}\"'.format(self.record[0])\n",
    "\n",
    "    def __repr__(self):\n",
    "        return 'SequenceRecord Object: {} {} | {}'.format(self.record[0], self.record[1], self.sequenceO.sequence)\n",
    "\n",
    "    def __eq__(self, other):\n",
    "        return self.record[0] == other.record[0]\n",
    "\n",
    "    def __lt__(self, other):\n",
    "        #lengths for sorting\n",
    "        return self.sequenceO.__len__ < other.sequenceO.__len__"
   ]
  },
  {
   "cell_type": "markdown",
   "metadata": {},
   "source": [
    "## Part 3 - Parsing using your new classes\n",
    "\n",
    "Build yourself a test FASTA file with approx 3 simple records. Read in this file, and use it contents to create a SequenceRecords for each record in the file. \n",
    "\n",
    "- Please note this process is identical to what we did previously with FASTA parsing, only before we used a dictionary where the key stored the header info, and the value stored the sequence info. Now, our SequenceRecord object holds BOTH pieces.\n",
    "\n",
    "Be sure to confirm your SequenceRecord objects hold the correct information.\n",
    "\n",
    "For extra credit, write your parser as a generator."
   ]
  },
  {
   "cell_type": "code",
   "execution_count": 130,
   "metadata": {},
   "outputs": [
    {
     "name": "stdout",
     "output_type": "stream",
     "text": [
      "[SequenceRecord Object: Lungfish Protopterus dolloi | atggcaacaaatatccgaaaaactcacccgctccttaaaatcgtaaacaactccctaattgacctgccaaccccatcaaacatttcagcatgatgaaacttcggctcacttcttggattctgccttattactcaaattctcacaggattattcttagctatacactacactgctgacacctcaacagccttctcatctatcgcacacatcgcccgcgacgtaaactatggctggctcctgcgcaacattcacgcaaacggagcatccatattttttatttgcatctacatccacattggtcgtggaatttattacggatccttcctatatacagagacctgaaatatcggagtagttctttttcttttaactataataactgcattcgtaggctacgttctcccgtgaggtcaaatatccttctggggtgccacagtcatcactaatctcctctcagccgtcccatacctaggagataccctagttcaatggatttggggcggattttctgtagacaacgccaccctcacccgattcttcgcttttcacttccttctccccttcatcatctctgcaataaccgccgcacactttttattcctccacgaaacaggctcaaataacccaacaggattaaactctaacctagacaaaatctcgttccacccgtattttactataaaagaccttttagggttcctaatacttgcttcttttctctgcctattagccctattttctcctaatcttctaggggacccagaaaattttaccccggctaatccacttgtcaccccaacccacatcaagccagagtgatacttcctctttgcatatgcaattctgcgctccatcccaaataaacttggaggcgtactagcacttatagcgtcgatccttattctttttatcattccgtttcttcaccgagcaaaacaacgcactatatcataccgacccctttctcaattcatattttggctgctaacagcagatatacttattctcacatgaatcggcggtcagcctgtagaacacccatttattctaattggccaaattgcttcagctacctattttcttctctttctactactcttccccctcatcacctcacttgagaacaaacttctctataaatact, SequenceRecord Object: Shark Scyliorhinus canicula | atggccacaaacatccgaaaaactcaccctctactaaaaattgtaaatcatgccctaattgatctcccagccccatcaaatatttcagtttgatgaaactttggttcacttctaggactatgcttaattatacaaattattacaggactcttcctagctatgcactacactgcagacatttctatagctttctcctcagttatccatatctcccgcgatgttaactacggttgactcatgcgtaatattcatgcctacggagcttcattcttcttcatctgcatctacttacacattgcccgaggtttgtattatggttcctatcttaacaaagaagcatgaaacatcggcgtcgtattattattcttacttatagctacagccttcgtaggctatgtcctaccatgaggacaaatatccttctgaggcgcaacagtaattactaaccttctctccgcatttccttatattggaaatttattagttcaatggatttgagggggcttctcagtagataatgccaccttaacacgttttttcgccttccactttctcctacctttcctaatcttagccttatccgtaattcatattctctttctacatgaaaccggggccaataaccccataggcattaactctaacacagataaaatttccttccacccatacttctcatataaagacttatttggcttcttaattgtaattaccttattagcaaccttagcactatttatgcccaacttactaggggatgctgaaaactttatcccagctaatcccctcgttacccctctacacattcaacctgaatgatacttcttattcgcctatgccattttacgctctattcctaataaacttgggggtgtcttagccctattattctctatttttattttattgttagtgccactccttcacacctcaaaactacgaagtaacatctttcgacctcttacacaaatcttcttttgatctttagtaactaatgccattattttaacatgaattggagggcaaccagtagaacaaccatttatcatagtaggtcaaatcgcctcagtcgcctacttctccttattccttttcgtgattccgatcaccagctggtgtgaaaacaaattcctcagcctaaact]\n"
     ]
    }
   ],
   "source": [
    "def fastaGenerator(fasta):\n",
    "    \n",
    "    with open(fasta) as f:\n",
    "        header = None\n",
    "        sequence = \"\"\n",
    "        for line in f:\n",
    "            line = line.strip()\n",
    "            if line.startswith(\">\"):\n",
    "                    if header:\n",
    "                        yield(header,sequence)\n",
    "                    sequence = \"\"\n",
    "                    header = line.lstrip(\">\")\n",
    "                    \n",
    "            else:\n",
    "                sequence += line.strip()\n",
    "    yield(header,sequence)\n",
    "\n",
    "file = fastaGenerator(\"testDNA.fasta\")\n",
    "sequenceList = []\n",
    "for i in file:\n",
    "    newSequence = Sequence(i[1])\n",
    "    newSequenceRecord = SequenceRecord(i[0], newSequence)\n",
    "    sequenceList.append(newSequenceRecord)\n",
    "print(sequenceList[:2])"
   ]
  },
  {
   "cell_type": "markdown",
   "metadata": {},
   "source": [
    "# Part 4 - OOP Lab Part 2"
   ]
  },
  {
   "cell_type": "markdown",
   "metadata": {},
   "source": [
    "## Add the following to your Sequence class:\n",
    "\n",
    " \n",
    "\n",
    "- the __len__() magic function  -> return the length of the object  \n",
    "- the __add__() magic function -> returns the result of two Sequence objects being added to one another (what should this be?)\n",
    " \n",
    "\n",
    "Add one method of your choice to Sequence that is something you think a Sequence can/should do. Think about things we've done with sequences, and add one of these as a method to your Sequence Class."
   ]
  }
 ],
 "metadata": {
  "interpreter": {
   "hash": "ad2bdc8ecc057115af97d19610ffacc2b4e99fae6737bb82f5d7fb13d2f2c186"
  },
  "kernelspec": {
   "display_name": "Python 3.8.8 ('base')",
   "language": "python",
   "name": "python3"
  },
  "language_info": {
   "codemirror_mode": {
    "name": "ipython",
    "version": 3
   },
   "file_extension": ".py",
   "mimetype": "text/x-python",
   "name": "python",
   "nbconvert_exporter": "python",
   "pygments_lexer": "ipython3",
   "version": "3.8.8"
  }
 },
 "nbformat": 4,
 "nbformat_minor": 4
}
